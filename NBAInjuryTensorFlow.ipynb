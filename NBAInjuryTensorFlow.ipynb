{
 "cells": [
  {
   "cell_type": "code",
   "execution_count": 1,
   "id": "e8eefe59",
   "metadata": {},
   "outputs": [],
   "source": [
    "import pandas as pd\n",
    "import numpy as np\n",
    "import seaborn as sns\n",
    "import matplotlib.pyplot as plt"
   ]
  },
  {
   "cell_type": "code",
   "execution_count": 2,
   "id": "698441c0",
   "metadata": {},
   "outputs": [],
   "source": [
    "df = pd.read_csv('/Users/ryan/Desktop/Streamlit Apps/NBAInjuryAnalysisData/fullfinal.csv')"
   ]
  },
  {
   "cell_type": "code",
   "execution_count": 3,
   "id": "0ccd752d",
   "metadata": {},
   "outputs": [
    {
     "data": {
      "text/html": [
       "<div>\n",
       "<style scoped>\n",
       "    .dataframe tbody tr th:only-of-type {\n",
       "        vertical-align: middle;\n",
       "    }\n",
       "\n",
       "    .dataframe tbody tr th {\n",
       "        vertical-align: top;\n",
       "    }\n",
       "\n",
       "    .dataframe thead th {\n",
       "        text-align: right;\n",
       "    }\n",
       "</style>\n",
       "<table border=\"1\" class=\"dataframe\">\n",
       "  <thead>\n",
       "    <tr style=\"text-align: right;\">\n",
       "      <th></th>\n",
       "      <th>Unnamed: 0</th>\n",
       "      <th>Unnamed: 0_x</th>\n",
       "      <th>PLAYER_ID</th>\n",
       "      <th>PLAYER_NAME</th>\n",
       "      <th>AGE</th>\n",
       "      <th>POSITION</th>\n",
       "      <th>Season</th>\n",
       "      <th>Team Name</th>\n",
       "      <th>TEAM_ABREVIATION</th>\n",
       "      <th>TEAM_ID</th>\n",
       "      <th>...</th>\n",
       "      <th>B2B</th>\n",
       "      <th>Team Miles Traveled</th>\n",
       "      <th>Unnamed: 0_y</th>\n",
       "      <th>DIST_FEET</th>\n",
       "      <th>DIST_MILES</th>\n",
       "      <th>DIST_MILES_OFF</th>\n",
       "      <th>DIST_MILES_DEF</th>\n",
       "      <th>AVG_SPEED</th>\n",
       "      <th>AVG_SPEED_OFF</th>\n",
       "      <th>AVG_SPEED_DEF</th>\n",
       "    </tr>\n",
       "  </thead>\n",
       "  <tbody>\n",
       "    <tr>\n",
       "      <th>0</th>\n",
       "      <td>0</td>\n",
       "      <td>0</td>\n",
       "      <td>201985</td>\n",
       "      <td>AJ Price</td>\n",
       "      <td>27.0</td>\n",
       "      <td>Guard</td>\n",
       "      <td>2013-14</td>\n",
       "      <td>NaN</td>\n",
       "      <td>MIN</td>\n",
       "      <td>1610612750</td>\n",
       "      <td>...</td>\n",
       "      <td>21.0</td>\n",
       "      <td>53730.0</td>\n",
       "      <td>0</td>\n",
       "      <td>1350.46</td>\n",
       "      <td>0.26</td>\n",
       "      <td>0.14</td>\n",
       "      <td>0.11</td>\n",
       "      <td>4.37</td>\n",
       "      <td>4.62</td>\n",
       "      <td>3.96</td>\n",
       "    </tr>\n",
       "    <tr>\n",
       "      <th>1</th>\n",
       "      <td>2</td>\n",
       "      <td>1</td>\n",
       "      <td>201166</td>\n",
       "      <td>Aaron Brooks</td>\n",
       "      <td>29.0</td>\n",
       "      <td>Guard</td>\n",
       "      <td>2013-14</td>\n",
       "      <td>NaN</td>\n",
       "      <td>DEN</td>\n",
       "      <td>1610612743</td>\n",
       "      <td>...</td>\n",
       "      <td>14.0</td>\n",
       "      <td>44230.0</td>\n",
       "      <td>1</td>\n",
       "      <td>8027.67</td>\n",
       "      <td>1.52</td>\n",
       "      <td>0.77</td>\n",
       "      <td>0.75</td>\n",
       "      <td>4.23</td>\n",
       "      <td>4.49</td>\n",
       "      <td>3.99</td>\n",
       "    </tr>\n",
       "    <tr>\n",
       "      <th>2</th>\n",
       "      <td>4</td>\n",
       "      <td>2</td>\n",
       "      <td>201189</td>\n",
       "      <td>Aaron Gray</td>\n",
       "      <td>29.0</td>\n",
       "      <td>Center</td>\n",
       "      <td>2013-14</td>\n",
       "      <td>Raptors</td>\n",
       "      <td>SAC</td>\n",
       "      <td>1610612758</td>\n",
       "      <td>...</td>\n",
       "      <td>19.0</td>\n",
       "      <td>44455.0</td>\n",
       "      <td>2</td>\n",
       "      <td>3586.69</td>\n",
       "      <td>0.68</td>\n",
       "      <td>0.37</td>\n",
       "      <td>0.31</td>\n",
       "      <td>4.23</td>\n",
       "      <td>4.49</td>\n",
       "      <td>3.91</td>\n",
       "    </tr>\n",
       "    <tr>\n",
       "      <th>3</th>\n",
       "      <td>6</td>\n",
       "      <td>3</td>\n",
       "      <td>201189</td>\n",
       "      <td>Aaron Gray</td>\n",
       "      <td>29.0</td>\n",
       "      <td>Center</td>\n",
       "      <td>2013-14</td>\n",
       "      <td>Raptors</td>\n",
       "      <td>SAC</td>\n",
       "      <td>1610612758</td>\n",
       "      <td>...</td>\n",
       "      <td>19.0</td>\n",
       "      <td>44455.0</td>\n",
       "      <td>2</td>\n",
       "      <td>3586.69</td>\n",
       "      <td>0.68</td>\n",
       "      <td>0.37</td>\n",
       "      <td>0.31</td>\n",
       "      <td>4.23</td>\n",
       "      <td>4.49</td>\n",
       "      <td>3.91</td>\n",
       "    </tr>\n",
       "    <tr>\n",
       "      <th>4</th>\n",
       "      <td>8</td>\n",
       "      <td>4</td>\n",
       "      <td>201189</td>\n",
       "      <td>Aaron Gray</td>\n",
       "      <td>29.0</td>\n",
       "      <td>Center</td>\n",
       "      <td>2013-14</td>\n",
       "      <td>Raptors</td>\n",
       "      <td>SAC</td>\n",
       "      <td>1610612758</td>\n",
       "      <td>...</td>\n",
       "      <td>19.0</td>\n",
       "      <td>44455.0</td>\n",
       "      <td>2</td>\n",
       "      <td>3586.69</td>\n",
       "      <td>0.68</td>\n",
       "      <td>0.37</td>\n",
       "      <td>0.31</td>\n",
       "      <td>4.23</td>\n",
       "      <td>4.49</td>\n",
       "      <td>3.91</td>\n",
       "    </tr>\n",
       "  </tbody>\n",
       "</table>\n",
       "<p>5 rows × 120 columns</p>\n",
       "</div>"
      ],
      "text/plain": [
       "   Unnamed: 0  Unnamed: 0_x  PLAYER_ID   PLAYER_NAME   AGE POSITION   Season  \\\n",
       "0           0             0     201985      AJ Price  27.0    Guard  2013-14   \n",
       "1           2             1     201166  Aaron Brooks  29.0    Guard  2013-14   \n",
       "2           4             2     201189    Aaron Gray  29.0   Center  2013-14   \n",
       "3           6             3     201189    Aaron Gray  29.0   Center  2013-14   \n",
       "4           8             4     201189    Aaron Gray  29.0   Center  2013-14   \n",
       "\n",
       "  Team Name TEAM_ABREVIATION     TEAM_ID  ...   B2B Team Miles Traveled  \\\n",
       "0       NaN              MIN  1610612750  ...  21.0             53730.0   \n",
       "1       NaN              DEN  1610612743  ...  14.0             44230.0   \n",
       "2   Raptors              SAC  1610612758  ...  19.0             44455.0   \n",
       "3   Raptors              SAC  1610612758  ...  19.0             44455.0   \n",
       "4   Raptors              SAC  1610612758  ...  19.0             44455.0   \n",
       "\n",
       "  Unnamed: 0_y DIST_FEET  DIST_MILES DIST_MILES_OFF  DIST_MILES_DEF  \\\n",
       "0            0   1350.46        0.26           0.14            0.11   \n",
       "1            1   8027.67        1.52           0.77            0.75   \n",
       "2            2   3586.69        0.68           0.37            0.31   \n",
       "3            2   3586.69        0.68           0.37            0.31   \n",
       "4            2   3586.69        0.68           0.37            0.31   \n",
       "\n",
       "   AVG_SPEED AVG_SPEED_OFF AVG_SPEED_DEF  \n",
       "0       4.37          4.62          3.96  \n",
       "1       4.23          4.49          3.99  \n",
       "2       4.23          4.49          3.91  \n",
       "3       4.23          4.49          3.91  \n",
       "4       4.23          4.49          3.91  \n",
       "\n",
       "[5 rows x 120 columns]"
      ]
     },
     "execution_count": 3,
     "metadata": {},
     "output_type": "execute_result"
    }
   ],
   "source": [
    "df.head()"
   ]
  },
  {
   "cell_type": "code",
   "execution_count": 18,
   "id": "8df800e2",
   "metadata": {},
   "outputs": [],
   "source": [
    "df['Injured'] = np.where(df['Injury Type'].notna(),1,0)"
   ]
  },
  {
   "cell_type": "code",
   "execution_count": 19,
   "id": "26f3531b",
   "metadata": {},
   "outputs": [
    {
     "data": {
      "text/plain": [
       "Injured\n",
       "0    5464\n",
       "1    5300\n",
       "Name: count, dtype: int64"
      ]
     },
     "execution_count": 19,
     "metadata": {},
     "output_type": "execute_result"
    }
   ],
   "source": [
    "df['Injured'].value_counts()"
   ]
  },
  {
   "cell_type": "code",
   "execution_count": 25,
   "id": "611ef3df",
   "metadata": {},
   "outputs": [],
   "source": [
    "df = df.drop_duplicates(subset=['PLAYER_NAME','Season'])"
   ]
  },
  {
   "cell_type": "code",
   "execution_count": 26,
   "id": "6fcf680f",
   "metadata": {},
   "outputs": [
    {
     "data": {
      "text/plain": [
       "Injured\n",
       "0    3510\n",
       "1    2193\n",
       "Name: count, dtype: int64"
      ]
     },
     "execution_count": 26,
     "metadata": {},
     "output_type": "execute_result"
    }
   ],
   "source": [
    "df['Injured'].value_counts()"
   ]
  },
  {
   "cell_type": "code",
   "execution_count": 13,
   "id": "a23cba6e",
   "metadata": {},
   "outputs": [],
   "source": [
    "df = df.drop(columns=['Unnamed: 0','Unnamed: 0_x','PLAYER_ID','Team Name','TEAM_ABREVIATION','TEAM_ID','DRAFT_ROUND','DRAFT_NUMBER','PLAYER_HEIGHT','COLLEGE','COUNTRY','Unnamed: 0_y','FROM_YEAR','DRAFT_YEAR','W_x','L_x'])"
   ]
  },
  {
   "cell_type": "code",
   "execution_count": 27,
   "id": "46897f6f",
   "metadata": {},
   "outputs": [],
   "source": [
    "df = df.drop(columns=['Date Returned','Injury Date','Days Missed'])"
   ]
  },
  {
   "cell_type": "code",
   "execution_count": 32,
   "id": "5f04a5e6",
   "metadata": {},
   "outputs": [],
   "source": [
    "df = df.drop(columns=['Notes','Injury Type'])"
   ]
  },
  {
   "cell_type": "code",
   "execution_count": 33,
   "id": "8c0f2b53",
   "metadata": {},
   "outputs": [
    {
     "name": "stdout",
     "output_type": "stream",
     "text": [
      "PLAYER_NAME\n",
      "AGE\n",
      "POSITION\n",
      "Season\n",
      "Experience\n",
      "PLAYER_HEIGHT_INCHES\n",
      "PLAYER_WEIGHT\n",
      "GP_x\n",
      "MIN_x\n",
      "PTS_PER_TOUCH\n",
      "REB\n",
      "REB.1\n",
      "AST\n",
      "STL\n",
      "BLK\n",
      "OREB\n",
      "DREB_x\n",
      "TOUCHES\n",
      "DRIVES\n",
      "DRIVE_FGM\n",
      "DRIVE_FGA\n",
      "DRIVE_FG_PCT\n",
      "DRIVE_PTS\n",
      "DRIVE_PTS_PCT\n",
      "CATCH_SHOOT_FGM\n",
      "CATCH_SHOOT_FGA\n",
      "CATCH_SHOOT_FG_PCT\n",
      "CATCH_SHOOT_PTS\n",
      "CATCH_SHOOT_FG3M\n",
      "CATCH_SHOOT_FG3A\n",
      "CATCH_SHOOT_FG3_PCT\n",
      "PULL_UP_FGM\n",
      "PULL_UP_FGA\n",
      "PULL_UP_FG_PCT\n",
      "PULL_UP_PTS\n",
      "PULL_UP_FG3M\n",
      "PULL_UP_FG3A\n",
      "PULL_UP_FG3_PCT\n",
      "DEF_RIM_FGM\n",
      "DEF_RIM_FGA\n",
      "DEF_RIM_FG_PCT\n",
      "AST.1\n",
      "FT_AST\n",
      "SECONDARY_AST\n",
      "POTENTIAL_AST\n",
      "AST_POINTS_CREATED\n",
      "AST_ADJ\n",
      "AST_TO_PASS_PCT\n",
      "ELBOW_TOUCH_FGM\n",
      "ELBOW_TOUCH_FGA\n",
      "ELBOW_TOUCH_FG_PCT\n",
      "ELBOW_TOUCH_FTM\n",
      "ELBOW_TOUCH_FTA\n",
      "ELBOW_TOUCH_FT_PCT\n",
      "ELBOW_TOUCH_PTS\n",
      "ELBOW_TOUCH_PASSES\n",
      "ELBOW_TOUCH_AST\n",
      "ELBOW_TOUCH_AST_PCT\n",
      "POST_TOUCH_FGM\n",
      "POST_TOUCH_FGA\n",
      "POST_TOUCH_FG_PCT\n",
      "POST_TOUCH_FTM\n",
      "POST_TOUCH_FTA\n",
      "POST_TOUCH_FT_PCT\n",
      "POST_TOUCH_PTS\n",
      "POST_TOUCH_PASSES\n",
      "POST_TOUCH_AST\n",
      "POST_TOUCH_AST_PCT\n",
      "PAINT_TOUCH_FGM\n",
      "PAINT_TOUCH_FGA\n",
      "PAINT_TOUCH_FG_PCT\n",
      "PAINT_TOUCH_FTM\n",
      "PAINT_TOUCH_FTA\n",
      "PAINT_TOUCH_FT_PCT\n",
      "PAINT_TOUCH_PTS\n",
      "PAINT_TOUCH_PASSES\n",
      "PAINT_TOUCH_AST\n",
      "PAINT_TOUCH_AST_PCT\n",
      "TIME_OF_POSS\n",
      "AVG_SEC_PER_TOUCH\n",
      "AVG_DRIB_PER_TOUCH\n",
      "Altitude\n",
      "Wins\n",
      "xWins\n",
      "VETS\n",
      "SOS\n",
      "Total\n",
      "Home\n",
      "Rest+\n",
      "Rest-\n",
      "B2B\n",
      "Team Miles Traveled\n",
      "DIST_FEET\n",
      "DIST_MILES\n",
      "DIST_MILES_OFF\n",
      "DIST_MILES_DEF\n",
      "AVG_SPEED\n",
      "AVG_SPEED_OFF\n",
      "AVG_SPEED_DEF\n",
      "Injured\n"
     ]
    }
   ],
   "source": [
    "for col in df.columns:\n",
    "    print(col)"
   ]
  },
  {
   "cell_type": "code",
   "execution_count": 34,
   "id": "2d0ea7df",
   "metadata": {},
   "outputs": [
    {
     "data": {
      "text/html": [
       "<div>\n",
       "<style scoped>\n",
       "    .dataframe tbody tr th:only-of-type {\n",
       "        vertical-align: middle;\n",
       "    }\n",
       "\n",
       "    .dataframe tbody tr th {\n",
       "        vertical-align: top;\n",
       "    }\n",
       "\n",
       "    .dataframe thead th {\n",
       "        text-align: right;\n",
       "    }\n",
       "</style>\n",
       "<table border=\"1\" class=\"dataframe\">\n",
       "  <thead>\n",
       "    <tr style=\"text-align: right;\">\n",
       "      <th></th>\n",
       "      <th>PLAYER_NAME</th>\n",
       "      <th>POSITION</th>\n",
       "      <th>Season</th>\n",
       "      <th>Altitude</th>\n",
       "    </tr>\n",
       "  </thead>\n",
       "  <tbody>\n",
       "    <tr>\n",
       "      <th>0</th>\n",
       "      <td>AJ Price</td>\n",
       "      <td>Guard</td>\n",
       "      <td>2013-14</td>\n",
       "      <td>Med</td>\n",
       "    </tr>\n",
       "    <tr>\n",
       "      <th>1</th>\n",
       "      <td>Aaron Brooks</td>\n",
       "      <td>Guard</td>\n",
       "      <td>2013-14</td>\n",
       "      <td>High</td>\n",
       "    </tr>\n",
       "    <tr>\n",
       "      <th>2</th>\n",
       "      <td>Aaron Gray</td>\n",
       "      <td>Center</td>\n",
       "      <td>2013-14</td>\n",
       "      <td>Low</td>\n",
       "    </tr>\n",
       "    <tr>\n",
       "      <th>5</th>\n",
       "      <td>Adonis Thomas</td>\n",
       "      <td>Guard-Forward</td>\n",
       "      <td>2013-14</td>\n",
       "      <td>Low</td>\n",
       "    </tr>\n",
       "    <tr>\n",
       "      <th>6</th>\n",
       "      <td>Al Harrington</td>\n",
       "      <td>Forward</td>\n",
       "      <td>2013-14</td>\n",
       "      <td>Low</td>\n",
       "    </tr>\n",
       "    <tr>\n",
       "      <th>...</th>\n",
       "      <td>...</td>\n",
       "      <td>...</td>\n",
       "      <td>...</td>\n",
       "      <td>...</td>\n",
       "    </tr>\n",
       "    <tr>\n",
       "      <th>10752</th>\n",
       "      <td>Zach LaVine</td>\n",
       "      <td>Guard</td>\n",
       "      <td>2023-24</td>\n",
       "      <td>Low</td>\n",
       "    </tr>\n",
       "    <tr>\n",
       "      <th>10755</th>\n",
       "      <td>Zavier Simpson</td>\n",
       "      <td>Guard</td>\n",
       "      <td>2023-24</td>\n",
       "      <td>Low</td>\n",
       "    </tr>\n",
       "    <tr>\n",
       "      <th>10756</th>\n",
       "      <td>Zeke Nnaji</td>\n",
       "      <td>Forward-Center</td>\n",
       "      <td>2023-24</td>\n",
       "      <td>High</td>\n",
       "    </tr>\n",
       "    <tr>\n",
       "      <th>10757</th>\n",
       "      <td>Ziaire Williams</td>\n",
       "      <td>Forward</td>\n",
       "      <td>2023-24</td>\n",
       "      <td>Low</td>\n",
       "    </tr>\n",
       "    <tr>\n",
       "      <th>10760</th>\n",
       "      <td>Zion Williamson</td>\n",
       "      <td>Forward</td>\n",
       "      <td>2023-24</td>\n",
       "      <td>Low</td>\n",
       "    </tr>\n",
       "  </tbody>\n",
       "</table>\n",
       "<p>5703 rows × 4 columns</p>\n",
       "</div>"
      ],
      "text/plain": [
       "           PLAYER_NAME        POSITION   Season Altitude\n",
       "0             AJ Price           Guard  2013-14      Med\n",
       "1         Aaron Brooks           Guard  2013-14     High\n",
       "2           Aaron Gray          Center  2013-14      Low\n",
       "5        Adonis Thomas   Guard-Forward  2013-14      Low\n",
       "6        Al Harrington         Forward  2013-14      Low\n",
       "...                ...             ...      ...      ...\n",
       "10752      Zach LaVine           Guard  2023-24      Low\n",
       "10755   Zavier Simpson           Guard  2023-24      Low\n",
       "10756       Zeke Nnaji  Forward-Center  2023-24     High\n",
       "10757  Ziaire Williams         Forward  2023-24      Low\n",
       "10760  Zion Williamson         Forward  2023-24      Low\n",
       "\n",
       "[5703 rows x 4 columns]"
      ]
     },
     "execution_count": 34,
     "metadata": {},
     "output_type": "execute_result"
    }
   ],
   "source": [
    "df.select_dtypes('object')"
   ]
  },
  {
   "cell_type": "code",
   "execution_count": 35,
   "id": "bec0ef7e",
   "metadata": {},
   "outputs": [],
   "source": [
    "from sklearn.preprocessing import LabelEncoder"
   ]
  },
  {
   "cell_type": "code",
   "execution_count": 36,
   "id": "d49ca06a",
   "metadata": {},
   "outputs": [],
   "source": [
    "le = LabelEncoder()"
   ]
  },
  {
   "cell_type": "code",
   "execution_count": 37,
   "id": "7c155bf2",
   "metadata": {},
   "outputs": [],
   "source": [
    "df['POSITION'] = le.fit_transform(df['POSITION'])\n",
    "df['Altitude'] = le.fit_transform(df['Altitude'])"
   ]
  },
  {
   "cell_type": "code",
   "execution_count": 39,
   "id": "c14c3f98",
   "metadata": {},
   "outputs": [],
   "source": [
    "df['Season'] = df['Season'].apply(lambda x: int(x.split('-')[0]))"
   ]
  },
  {
   "cell_type": "code",
   "execution_count": 41,
   "id": "b6e1e584",
   "metadata": {},
   "outputs": [
    {
     "data": {
      "text/html": [
       "<div>\n",
       "<style scoped>\n",
       "    .dataframe tbody tr th:only-of-type {\n",
       "        vertical-align: middle;\n",
       "    }\n",
       "\n",
       "    .dataframe tbody tr th {\n",
       "        vertical-align: top;\n",
       "    }\n",
       "\n",
       "    .dataframe thead th {\n",
       "        text-align: right;\n",
       "    }\n",
       "</style>\n",
       "<table border=\"1\" class=\"dataframe\">\n",
       "  <thead>\n",
       "    <tr style=\"text-align: right;\">\n",
       "      <th></th>\n",
       "      <th>PLAYER_NAME</th>\n",
       "    </tr>\n",
       "  </thead>\n",
       "  <tbody>\n",
       "    <tr>\n",
       "      <th>0</th>\n",
       "      <td>AJ Price</td>\n",
       "    </tr>\n",
       "    <tr>\n",
       "      <th>1</th>\n",
       "      <td>Aaron Brooks</td>\n",
       "    </tr>\n",
       "    <tr>\n",
       "      <th>2</th>\n",
       "      <td>Aaron Gray</td>\n",
       "    </tr>\n",
       "    <tr>\n",
       "      <th>5</th>\n",
       "      <td>Adonis Thomas</td>\n",
       "    </tr>\n",
       "    <tr>\n",
       "      <th>6</th>\n",
       "      <td>Al Harrington</td>\n",
       "    </tr>\n",
       "    <tr>\n",
       "      <th>...</th>\n",
       "      <td>...</td>\n",
       "    </tr>\n",
       "    <tr>\n",
       "      <th>10752</th>\n",
       "      <td>Zach LaVine</td>\n",
       "    </tr>\n",
       "    <tr>\n",
       "      <th>10755</th>\n",
       "      <td>Zavier Simpson</td>\n",
       "    </tr>\n",
       "    <tr>\n",
       "      <th>10756</th>\n",
       "      <td>Zeke Nnaji</td>\n",
       "    </tr>\n",
       "    <tr>\n",
       "      <th>10757</th>\n",
       "      <td>Ziaire Williams</td>\n",
       "    </tr>\n",
       "    <tr>\n",
       "      <th>10760</th>\n",
       "      <td>Zion Williamson</td>\n",
       "    </tr>\n",
       "  </tbody>\n",
       "</table>\n",
       "<p>5703 rows × 1 columns</p>\n",
       "</div>"
      ],
      "text/plain": [
       "           PLAYER_NAME\n",
       "0             AJ Price\n",
       "1         Aaron Brooks\n",
       "2           Aaron Gray\n",
       "5        Adonis Thomas\n",
       "6        Al Harrington\n",
       "...                ...\n",
       "10752      Zach LaVine\n",
       "10755   Zavier Simpson\n",
       "10756       Zeke Nnaji\n",
       "10757  Ziaire Williams\n",
       "10760  Zion Williamson\n",
       "\n",
       "[5703 rows x 1 columns]"
      ]
     },
     "execution_count": 41,
     "metadata": {},
     "output_type": "execute_result"
    }
   ],
   "source": [
    "df.select_dtypes('object')"
   ]
  },
  {
   "cell_type": "code",
   "execution_count": null,
   "id": "eef2b058",
   "metadata": {},
   "outputs": [],
   "source": [
    "df.drop(columns='Wins',inplace=True)"
   ]
  },
  {
   "cell_type": "code",
   "execution_count": 66,
   "id": "2dca099c",
   "metadata": {},
   "outputs": [],
   "source": [
    "df.drop(columns='xWins',inplace=True)"
   ]
  },
  {
   "cell_type": "code",
   "execution_count": 70,
   "id": "e160d292",
   "metadata": {},
   "outputs": [],
   "source": [
    "df.drop(columns='Total',inplace=True)"
   ]
  },
  {
   "cell_type": "code",
   "execution_count": 74,
   "id": "f166244f",
   "metadata": {},
   "outputs": [],
   "source": [
    "df.drop(columns='VETS',inplace=True)"
   ]
  },
  {
   "cell_type": "code",
   "execution_count": 78,
   "id": "c398948a",
   "metadata": {},
   "outputs": [],
   "source": [
    "df = df.dropna(subset=['PLAYER_HEIGHT_INCHES','PLAYER_WEIGHT'])"
   ]
  },
  {
   "cell_type": "code",
   "execution_count": 82,
   "id": "5f707fa6",
   "metadata": {},
   "outputs": [],
   "source": [
    "df.dropna(subset='FT_AST',inplace=True)"
   ]
  },
  {
   "cell_type": "code",
   "execution_count": 102,
   "id": "1655a383",
   "metadata": {},
   "outputs": [],
   "source": [
    "# Specify the columns you want to fill\n",
    "columns_to_fill = ['CATCH_SHOOT_FG_PCT', 'CATCH_SHOOT_FG3M', 'CATCH_SHOOT_FG3A', \n",
    "                   'CATCH_SHOOT_FG3_PCT', 'PULL_UP_FG_PCT', 'PULL_UP_FG3M', \n",
    "                   'PULL_UP_FG3A', 'PULL_UP_FG3_PCT']\n",
    "\n",
    "# Fill NaN values in those specific columns with 0 (inplace)\n",
    "df[columns_to_fill] = df[columns_to_fill].fillna(0)\n"
   ]
  },
  {
   "cell_type": "code",
   "execution_count": 106,
   "id": "08c9e2f8",
   "metadata": {},
   "outputs": [],
   "source": [
    "# Calculate the mean of the columns\n",
    "mean_values = df[['SOS', 'Home', 'Rest+', 'Rest-', 'B2B', 'Team Miles Traveled']].mean()\n",
    "\n",
    "# Fill NaN values with the calculated mean for each column\n",
    "df[['SOS', 'Home', 'Rest+', 'Rest-', 'B2B', 'Team Miles Traveled']] = df[['SOS', 'Home', 'Rest+', 'Rest-', 'B2B', 'Team Miles Traveled']].fillna(mean_values)"
   ]
  },
  {
   "cell_type": "code",
   "execution_count": 107,
   "id": "1ec7bc2a",
   "metadata": {},
   "outputs": [],
   "source": [
    "missing = pd.DataFrame(df.isna().sum().reset_index())"
   ]
  },
  {
   "cell_type": "code",
   "execution_count": 108,
   "id": "4ca0cb22",
   "metadata": {},
   "outputs": [],
   "source": [
    "missing.columns = ['Column','Count']"
   ]
  },
  {
   "cell_type": "code",
   "execution_count": 109,
   "id": "483ef592",
   "metadata": {},
   "outputs": [
    {
     "data": {
      "text/html": [
       "<div>\n",
       "<style scoped>\n",
       "    .dataframe tbody tr th:only-of-type {\n",
       "        vertical-align: middle;\n",
       "    }\n",
       "\n",
       "    .dataframe tbody tr th {\n",
       "        vertical-align: top;\n",
       "    }\n",
       "\n",
       "    .dataframe thead th {\n",
       "        text-align: right;\n",
       "    }\n",
       "</style>\n",
       "<table border=\"1\" class=\"dataframe\">\n",
       "  <thead>\n",
       "    <tr style=\"text-align: right;\">\n",
       "      <th></th>\n",
       "      <th>Column</th>\n",
       "      <th>Count</th>\n",
       "    </tr>\n",
       "  </thead>\n",
       "  <tbody>\n",
       "  </tbody>\n",
       "</table>\n",
       "</div>"
      ],
      "text/plain": [
       "Empty DataFrame\n",
       "Columns: [Column, Count]\n",
       "Index: []"
      ]
     },
     "execution_count": 109,
     "metadata": {},
     "output_type": "execute_result"
    }
   ],
   "source": [
    "missing[missing['Count'] > 0]"
   ]
  },
  {
   "cell_type": "code",
   "execution_count": 116,
   "id": "328912a4",
   "metadata": {},
   "outputs": [],
   "source": [
    "corrdf = df.drop(columns='PLAYER_NAME').corr()['Injured'].reset_index()"
   ]
  },
  {
   "cell_type": "code",
   "execution_count": 119,
   "id": "d2104e14",
   "metadata": {},
   "outputs": [],
   "source": [
    "corrdf['abs'] = abs(corrdf['Injured'])"
   ]
  },
  {
   "cell_type": "code",
   "execution_count": 124,
   "id": "c87b03c3",
   "metadata": {},
   "outputs": [],
   "source": [
    "corrdf = corrdf.sort_values(by='abs',ascending=False)"
   ]
  },
  {
   "cell_type": "code",
   "execution_count": 220,
   "id": "f3e515a5",
   "metadata": {},
   "outputs": [
    {
     "data": {
      "text/plain": [
       "['Injured',\n",
       " 'DIST_MILES',\n",
       " 'DIST_FEET',\n",
       " 'DIST_MILES_DEF',\n",
       " 'DIST_MILES_OFF',\n",
       " 'MIN_x',\n",
       " 'TOUCHES',\n",
       " 'STL',\n",
       " 'DEF_RIM_FGM',\n",
       " 'AST_POINTS_CREATED',\n",
       " 'SECONDARY_AST']"
      ]
     },
     "execution_count": 220,
     "metadata": {},
     "output_type": "execute_result"
    }
   ],
   "source": [
    "corrdf.head(11)['index'].tolist()"
   ]
  },
  {
   "cell_type": "code",
   "execution_count": 137,
   "id": "0f77c910",
   "metadata": {},
   "outputs": [],
   "source": [
    "from tensorflow.keras.models import Sequential\n",
    "from tensorflow.keras.layers import Dense, Dropout"
   ]
  },
  {
   "cell_type": "code",
   "execution_count": 138,
   "id": "ab65e1f3",
   "metadata": {},
   "outputs": [],
   "source": [
    "from tensorflow.keras.callbacks import EarlyStopping"
   ]
  },
  {
   "cell_type": "code",
   "execution_count": 139,
   "id": "be5ab179",
   "metadata": {},
   "outputs": [],
   "source": [
    "early_stop = EarlyStopping(monitor='val_loss',mode='min',verbose=1,patience=25)"
   ]
  },
  {
   "cell_type": "code",
   "execution_count": 140,
   "id": "88515833",
   "metadata": {},
   "outputs": [],
   "source": [
    "from sklearn.model_selection import train_test_split"
   ]
  },
  {
   "cell_type": "code",
   "execution_count": 322,
   "id": "613fde5c",
   "metadata": {},
   "outputs": [],
   "source": [
    "# X = df[['DIST_MILES',\n",
    "#  'DIST_FEET',\n",
    "#  'DIST_MILES_DEF',\n",
    "#  'DIST_MILES_OFF',\n",
    "#  'MIN_x',\n",
    "#  'TOUCHES',\n",
    "#  'STL',\n",
    "#  'DEF_RIM_FGM',\n",
    "#  'AST_POINTS_CREATED',\n",
    "#  'SECONDARY_AST']].values\n",
    "X = df.drop(columns=['Injured','PLAYER_NAME']).values\n",
    "y = df['Injured'].values"
   ]
  },
  {
   "cell_type": "code",
   "execution_count": 323,
   "id": "a74a2f3e",
   "metadata": {},
   "outputs": [],
   "source": [
    "X_train, X_test ,y_train, y_test = train_test_split(X,y,test_size=0.25,random_state=101)"
   ]
  },
  {
   "cell_type": "code",
   "execution_count": 324,
   "id": "51b38ec1",
   "metadata": {},
   "outputs": [],
   "source": [
    "from sklearn.preprocessing import StandardScaler"
   ]
  },
  {
   "cell_type": "code",
   "execution_count": 325,
   "id": "0bab5fe9",
   "metadata": {},
   "outputs": [],
   "source": [
    "scaler = StandardScaler()"
   ]
  },
  {
   "cell_type": "code",
   "execution_count": 326,
   "id": "557e39e3",
   "metadata": {},
   "outputs": [],
   "source": [
    "X_train = scaler.fit_transform(X_train)\n",
    "X_test = scaler.transform(X_test)"
   ]
  },
  {
   "cell_type": "code",
   "execution_count": 327,
   "id": "f0d02458",
   "metadata": {},
   "outputs": [],
   "source": [
    "model = Sequential()"
   ]
  },
  {
   "cell_type": "code",
   "execution_count": 342,
   "id": "9e46f30a",
   "metadata": {},
   "outputs": [],
   "source": [
    "model.add(Dense(20,'relu'))\n",
    "model.add(Dropout(0.2))\n",
    "model.add(Dense(10,'relu'))\n",
    "model.add(Dropout(0.2))\n",
    "model.add(Dense(5,'relu'))\n",
    "model.add(Dropout(0.2))\n",
    "model.add(Dense(1,'sigmoid'))\n",
    "model.compile(loss='binary_crossentropy',optimizer='adam')"
   ]
  },
  {
   "cell_type": "code",
   "execution_count": 343,
   "id": "c37a4c33",
   "metadata": {},
   "outputs": [
    {
     "name": "stdout",
     "output_type": "stream",
     "text": [
      "Epoch 1/700\n",
      "134/134 [==============================] - 5s 7ms/step - loss: 0.6729 - val_loss: 0.6682\n",
      "Epoch 2/700\n",
      "134/134 [==============================] - 0s 4ms/step - loss: 0.6686 - val_loss: 0.6680\n",
      "Epoch 3/700\n",
      "134/134 [==============================] - 0s 4ms/step - loss: 0.6688 - val_loss: 0.6691\n",
      "Epoch 4/700\n",
      "134/134 [==============================] - 0s 4ms/step - loss: 0.6674 - val_loss: 0.6681\n",
      "Epoch 5/700\n",
      "134/134 [==============================] - 0s 4ms/step - loss: 0.6676 - val_loss: 0.6680\n",
      "Epoch 6/700\n",
      "134/134 [==============================] - 0s 4ms/step - loss: 0.6670 - val_loss: 0.6680\n",
      "Epoch 7/700\n",
      "134/134 [==============================] - 0s 4ms/step - loss: 0.6688 - val_loss: 0.6681\n",
      "Epoch 8/700\n",
      "134/134 [==============================] - 0s 4ms/step - loss: 0.6680 - val_loss: 0.6680\n",
      "Epoch 9/700\n",
      "134/134 [==============================] - 0s 4ms/step - loss: 0.6674 - val_loss: 0.6679\n",
      "Epoch 10/700\n",
      "134/134 [==============================] - 1s 4ms/step - loss: 0.6653 - val_loss: 0.6679\n",
      "Epoch 11/700\n",
      "134/134 [==============================] - 0s 4ms/step - loss: 0.6681 - val_loss: 0.6680\n",
      "Epoch 12/700\n",
      "134/134 [==============================] - 0s 4ms/step - loss: 0.6662 - val_loss: 0.6679\n",
      "Epoch 13/700\n",
      "134/134 [==============================] - 1s 4ms/step - loss: 0.6671 - val_loss: 0.6679\n",
      "Epoch 14/700\n",
      "134/134 [==============================] - 1s 4ms/step - loss: 0.6666 - val_loss: 0.6679\n",
      "Epoch 15/700\n",
      "134/134 [==============================] - 1s 4ms/step - loss: 0.6658 - val_loss: 0.6679\n",
      "Epoch 16/700\n",
      "134/134 [==============================] - 1s 4ms/step - loss: 0.6657 - val_loss: 0.6677\n",
      "Epoch 17/700\n",
      "134/134 [==============================] - 0s 4ms/step - loss: 0.6664 - val_loss: 0.6670\n",
      "Epoch 18/700\n",
      "134/134 [==============================] - 0s 4ms/step - loss: 0.6642 - val_loss: 0.6638\n",
      "Epoch 19/700\n",
      "134/134 [==============================] - 1s 4ms/step - loss: 0.6573 - val_loss: 0.6545\n",
      "Epoch 20/700\n",
      "134/134 [==============================] - 0s 4ms/step - loss: 0.6562 - val_loss: 0.6553\n",
      "Epoch 21/700\n",
      "134/134 [==============================] - 0s 4ms/step - loss: 0.6522 - val_loss: 0.6491\n",
      "Epoch 22/700\n",
      "134/134 [==============================] - 0s 4ms/step - loss: 0.6492 - val_loss: 0.6469\n",
      "Epoch 23/700\n",
      "134/134 [==============================] - 0s 4ms/step - loss: 0.6467 - val_loss: 0.6449\n",
      "Epoch 24/700\n",
      "134/134 [==============================] - 0s 4ms/step - loss: 0.6411 - val_loss: 0.6408\n",
      "Epoch 25/700\n",
      "134/134 [==============================] - 1s 4ms/step - loss: 0.6435 - val_loss: 0.6389\n",
      "Epoch 26/700\n",
      "134/134 [==============================] - 0s 4ms/step - loss: 0.6413 - val_loss: 0.6364\n",
      "Epoch 27/700\n",
      "134/134 [==============================] - 0s 4ms/step - loss: 0.6411 - val_loss: 0.6366\n",
      "Epoch 28/700\n",
      "134/134 [==============================] - 0s 4ms/step - loss: 0.6377 - val_loss: 0.6380\n",
      "Epoch 29/700\n",
      "134/134 [==============================] - 1s 5ms/step - loss: 0.6400 - val_loss: 0.6420\n",
      "Epoch 30/700\n",
      "134/134 [==============================] - 1s 4ms/step - loss: 0.6415 - val_loss: 0.6449\n",
      "Epoch 31/700\n",
      "134/134 [==============================] - 0s 4ms/step - loss: 0.6436 - val_loss: 0.6428\n",
      "Epoch 32/700\n",
      "134/134 [==============================] - 1s 4ms/step - loss: 0.6389 - val_loss: 0.6431\n",
      "Epoch 33/700\n",
      "134/134 [==============================] - 0s 4ms/step - loss: 0.6438 - val_loss: 0.6386\n",
      "Epoch 34/700\n",
      "134/134 [==============================] - 0s 4ms/step - loss: 0.6436 - val_loss: 0.6383\n",
      "Epoch 35/700\n",
      "134/134 [==============================] - 0s 4ms/step - loss: 0.6411 - val_loss: 0.6410\n",
      "Epoch 36/700\n",
      "134/134 [==============================] - 0s 4ms/step - loss: 0.6472 - val_loss: 0.6456\n",
      "Epoch 37/700\n",
      "134/134 [==============================] - 0s 4ms/step - loss: 0.6439 - val_loss: 0.6477\n",
      "Epoch 38/700\n",
      "134/134 [==============================] - 0s 4ms/step - loss: 0.6484 - val_loss: 0.6492\n",
      "Epoch 39/700\n",
      "134/134 [==============================] - 1s 4ms/step - loss: 0.6441 - val_loss: 0.6396\n",
      "Epoch 40/700\n",
      "134/134 [==============================] - 0s 4ms/step - loss: 0.6397 - val_loss: 0.6415\n",
      "Epoch 41/700\n",
      "134/134 [==============================] - 0s 4ms/step - loss: 0.6449 - val_loss: 0.6494\n",
      "Epoch 42/700\n",
      "134/134 [==============================] - 0s 4ms/step - loss: 0.6448 - val_loss: 0.6455\n",
      "Epoch 43/700\n",
      "134/134 [==============================] - 0s 4ms/step - loss: 0.6394 - val_loss: 0.6454\n",
      "Epoch 44/700\n",
      "134/134 [==============================] - 0s 4ms/step - loss: 0.6411 - val_loss: 0.6487\n",
      "Epoch 45/700\n",
      "134/134 [==============================] - 0s 4ms/step - loss: 0.6406 - val_loss: 0.6490\n",
      "Epoch 46/700\n",
      "134/134 [==============================] - 0s 4ms/step - loss: 0.6444 - val_loss: 0.6480\n",
      "Epoch 47/700\n",
      "134/134 [==============================] - 1s 4ms/step - loss: 0.6365 - val_loss: 0.6484\n",
      "Epoch 48/700\n",
      "134/134 [==============================] - 0s 4ms/step - loss: 0.6418 - val_loss: 0.6451\n",
      "Epoch 49/700\n",
      "134/134 [==============================] - 0s 4ms/step - loss: 0.6439 - val_loss: 0.6399\n",
      "Epoch 50/700\n",
      "134/134 [==============================] - 0s 4ms/step - loss: 0.6359 - val_loss: 0.6385\n",
      "Epoch 51/700\n",
      "134/134 [==============================] - 1s 4ms/step - loss: 0.6399 - val_loss: 0.6412\n",
      "Epoch 51: early stopping\n"
     ]
    },
    {
     "data": {
      "text/plain": [
       "<keras.src.callbacks.History at 0x161f475b0>"
      ]
     },
     "execution_count": 343,
     "metadata": {},
     "output_type": "execute_result"
    }
   ],
   "source": [
    "model.fit(x=X_train,y=y_train,epochs=700,validation_data=(X_test,y_test),callbacks=[early_stop])"
   ]
  },
  {
   "cell_type": "code",
   "execution_count": 344,
   "id": "e814f0f9",
   "metadata": {},
   "outputs": [],
   "source": [
    "losses = pd.DataFrame(model.history.history)"
   ]
  },
  {
   "cell_type": "code",
   "execution_count": 345,
   "id": "871e3fcb",
   "metadata": {},
   "outputs": [
    {
     "data": {
      "text/plain": [
       "<Axes: >"
      ]
     },
     "execution_count": 345,
     "metadata": {},
     "output_type": "execute_result"
    },
    {
     "data": {
      "image/png": "[encoded data removed]",
      "text/plain": [
       "<Figure size 640x480 with 1 Axes>"
      ]
     },
     "metadata": {},
     "output_type": "display_data"
    }
   ],
   "source": [
    "losses.plot()"
   ]
  },
  {
   "cell_type": "code",
   "execution_count": 346,
   "id": "dbcbca44",
   "metadata": {},
   "outputs": [
    {
     "name": "stdout",
     "output_type": "stream",
     "text": [
      "45/45 [==============================] - 0s 2ms/step - loss: 0.6412\n"
     ]
    },
    {
     "data": {
      "text/plain": [
       "0.6412376165390015"
      ]
     },
     "execution_count": 346,
     "metadata": {},
     "output_type": "execute_result"
    }
   ],
   "source": [
    "model.evaluate(X_test,y_test)"
   ]
  },
  {
   "cell_type": "code",
   "execution_count": 347,
   "id": "909dc12c",
   "metadata": {},
   "outputs": [
    {
     "name": "stdout",
     "output_type": "stream",
     "text": [
      "45/45 [==============================] - 0s 2ms/step\n"
     ]
    }
   ],
   "source": [
    "preds = model.predict(X_test)\n",
    "preds = (preds > 0.5).astype(int)"
   ]
  },
  {
   "cell_type": "code",
   "execution_count": 348,
   "id": "563e5dae",
   "metadata": {},
   "outputs": [],
   "source": [
    "from sklearn.metrics import accuracy_score"
   ]
  },
  {
   "cell_type": "code",
   "execution_count": 349,
   "id": "01eff879",
   "metadata": {},
   "outputs": [
    {
     "name": "stdout",
     "output_type": "stream",
     "text": [
      "0.6119298245614035\n"
     ]
    }
   ],
   "source": [
    "print(accuracy_score(y_test,preds))"
   ]
  },
  {
   "cell_type": "code",
   "execution_count": null,
   "id": "f7f0a792",
   "metadata": {},
   "outputs": [],
   "source": []
  }
 ],
 "metadata": {
  "kernelspec": {
   "display_name": "Python 3",
   "language": "python",
   "name": "python3"
  },
  "language_info": {
   "codemirror_mode": {
    "name": "ipython",
    "version": 3
   },
   "file_extension": ".py",
   "mimetype": "text/x-python",
   "name": "python",
   "nbconvert_exporter": "python",
   "pygments_lexer": "ipython3",
   "version": "3.9.6"
  }
 },
 "nbformat": 4,
 "nbformat_minor": 5
}
